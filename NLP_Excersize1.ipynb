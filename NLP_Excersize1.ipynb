{
  "nbformat": 4,
  "nbformat_minor": 0,
  "metadata": {
    "colab": {
      "name": "NLP_Excersize1.ipynb",
      "provenance": [],
      "collapsed_sections": []
    },
    "kernelspec": {
      "display_name": "Python 3",
      "name": "python3"
    },
    "language_info": {
      "name": "python"
    }
  },
  "cells": [
    {
      "cell_type": "code",
      "metadata": {
        "id": "rpB3uDVTg68Y"
      },
      "source": [
        "import nltk\n",
        "\n",
        "# import all the resources for Natural Language Processing with Python\n",
        "nltk.download(\"book\")\n",
        "nltk.download('averaged_perceptron_tagger')\n"
      ],
      "execution_count": null,
      "outputs": []
    },
    {
      "cell_type": "code",
      "metadata": {
        "id": "lIInTLvLhE0A",
        "colab": {
          "base_uri": "https://localhost:8080/"
        },
        "outputId": "3b2fac97-1225-49c8-a55a-9374db649d75"
      },
      "source": [
        "import csv\n",
        "from nltk import sent_tokenize \n",
        "import pandas as pd\n",
        "count = 0\n",
        "with open('/content/drive/MyDrive/data_in.csv', 'r') as csvfile:\n",
        "   reader = csv.DictReader(csvfile)\n",
        "   for row in reader:\n",
        "       Comment = row[\"Comment\"]\n",
        "       #print(\"Comment: %s\" % Comment)\n",
        "       tokens = sent_tokenize(Comment)\n",
        "       print(tokens)\n",
        "       count=count+1\n",
        "       \n",
        "\n",
        "            \n",
        "\n",
        "      \n",
        "       \n",
        "       \n",
        "    \n",
        "    "
      ],
      "execution_count": null,
      "outputs": [
        {
          "output_type": "stream",
          "text": [
            "['\"Hello there, how are you?', 'Weather is awesome.', 'Its raining here now.\"']\n",
            "['\"Hello Mr. Raja, how are you?', 'Weather is awesome.', 'Its raining here now.\"']\n",
            "['\"Hello Mr. Raja, how are you.', 'Weather is bad.', 'Its heavily raining here now.\"']\n",
            "['\"NLP is great technique.', 'It is nice to learn this technique.\"']\n",
            "['\"AI is making difference in this world now.', 'It would be helpful for betterment of human life.', 'We need to make advantage of that.\"']\n"
          ],
          "name": "stdout"
        }
      ]
    },
    {
      "cell_type": "code",
      "metadata": {
        "id": "Jfgw1y7WbOw2"
      },
      "source": [
        "from csv import writer\n",
        "with open('/content/drive/MyDrive/data_out.csv', 'a') as f_object:\n",
        "    writer_object = writer(f_object)\n",
        "    writer_object.writerow(tokens)\n",
        "    f_object.close()"
      ],
      "execution_count": null,
      "outputs": []
    },
    {
      "cell_type": "code",
      "metadata": {
        "id": "0ZlGi0MVFdqY",
        "colab": {
          "base_uri": "https://localhost:8080/"
        },
        "outputId": "d0d87eaf-2228-4060-c421-f669cd0a1438"
      },
      "source": [
        "import csv\n",
        "with open('/content/drive/MyDrive/data_out.csv', mode='r') as csvfile:\n",
        "  reader = csv.DictReader(csvfile)\n",
        "  for row in reader:\n",
        "        token = row['Tokens']\n",
        "        tn = token.split()\n",
        "        print(tn)\n",
        "        tagged = nltk.pos_tag(tn)\n",
        "        print(tagged)\n",
        "        entities = nltk.chunk.ne_chunk(tagged)\n",
        "        print(entities) "
      ],
      "execution_count": null,
      "outputs": [
        {
          "output_type": "stream",
          "text": [
            "['Hello', 'there,', 'how', 'are', 'you?,', 'Weather', 'is', 'awesome.,', 'Its', 'raining', 'here', 'now.']\n",
            "[('Hello', 'NNP'), ('there,', 'VB'), ('how', 'WRB'), ('are', 'VBP'), ('you?,', 'JJ'), ('Weather', 'NNP'), ('is', 'VBZ'), ('awesome.,', 'JJ'), ('Its', 'PRP$'), ('raining', 'VBG'), ('here', 'RB'), ('now.', 'RB')]\n",
            "(S\n",
            "  (GPE Hello/NNP)\n",
            "  there,/VB\n",
            "  how/WRB\n",
            "  are/VBP\n",
            "  you?,/JJ\n",
            "  Weather/NNP\n",
            "  is/VBZ\n",
            "  awesome.,/JJ\n",
            "  Its/PRP$\n",
            "  raining/VBG\n",
            "  here/RB\n",
            "  now./RB)\n",
            "['Hello', 'Mr.', 'Raja,', 'how', 'are', 'you?Weather', 'is', 'awesome.Its', 'raining', 'here', 'now.']\n",
            "[('Hello', 'NNP'), ('Mr.', 'NNP'), ('Raja,', 'NNP'), ('how', 'WRB'), ('are', 'VBP'), ('you?Weather', 'RB'), ('is', 'VBZ'), ('awesome.Its', 'JJ'), ('raining', 'VBG'), ('here', 'RB'), ('now.', 'RB')]\n",
            "(S\n",
            "  (PERSON Hello/NNP)\n",
            "  (PERSON Mr./NNP)\n",
            "  Raja,/NNP\n",
            "  how/WRB\n",
            "  are/VBP\n",
            "  you?Weather/RB\n",
            "  is/VBZ\n",
            "  awesome.Its/JJ\n",
            "  raining/VBG\n",
            "  here/RB\n",
            "  now./RB)\n",
            "['Hello', 'Mr.', 'Raja,', 'how', 'are', 'you.Weather', 'is', 'bad.Its', 'heavily', 'raining', 'here', 'now.']\n",
            "[('Hello', 'NNP'), ('Mr.', 'NNP'), ('Raja,', 'NNP'), ('how', 'WRB'), ('are', 'VBP'), ('you.Weather', 'RB'), ('is', 'VBZ'), ('bad.Its', 'JJ'), ('heavily', 'RB'), ('raining', 'VBG'), ('here', 'RB'), ('now.', 'RB')]\n",
            "(S\n",
            "  (PERSON Hello/NNP)\n",
            "  (PERSON Mr./NNP)\n",
            "  Raja,/NNP\n",
            "  how/WRB\n",
            "  are/VBP\n",
            "  you.Weather/RB\n",
            "  is/VBZ\n",
            "  bad.Its/JJ\n",
            "  heavily/RB\n",
            "  raining/VBG\n",
            "  here/RB\n",
            "  now./RB)\n",
            "['NLP', 'is', 'great', 'technique.It', 'is', 'nice', 'to', 'learn', 'this', 'technique.']\n",
            "[('NLP', 'NNP'), ('is', 'VBZ'), ('great', 'JJ'), ('technique.It', 'NN'), ('is', 'VBZ'), ('nice', 'JJ'), ('to', 'TO'), ('learn', 'VB'), ('this', 'DT'), ('technique.', 'NN')]\n",
            "(S\n",
            "  (ORGANIZATION NLP/NNP)\n",
            "  is/VBZ\n",
            "  great/JJ\n",
            "  technique.It/NN\n",
            "  is/VBZ\n",
            "  nice/JJ\n",
            "  to/TO\n",
            "  learn/VB\n",
            "  this/DT\n",
            "  technique./NN)\n",
            "['AI', 'is', 'making', 'difference', 'in', 'this', 'world', 'now.It', 'would', 'be', 'helpful', 'for', 'betterment', 'of', 'human', 'life.We', 'need', 'to', 'make', 'advantage', 'of', 'that.']\n",
            "[('AI', 'NNP'), ('is', 'VBZ'), ('making', 'VBG'), ('difference', 'NN'), ('in', 'IN'), ('this', 'DT'), ('world', 'NN'), ('now.It', 'NN'), ('would', 'MD'), ('be', 'VB'), ('helpful', 'JJ'), ('for', 'IN'), ('betterment', 'NN'), ('of', 'IN'), ('human', 'JJ'), ('life.We', 'NNS'), ('need', 'VBP'), ('to', 'TO'), ('make', 'VB'), ('advantage', 'NN'), ('of', 'IN'), ('that.', 'NN')]\n",
            "(S\n",
            "  AI/NNP\n",
            "  is/VBZ\n",
            "  making/VBG\n",
            "  difference/NN\n",
            "  in/IN\n",
            "  this/DT\n",
            "  world/NN\n",
            "  now.It/NN\n",
            "  would/MD\n",
            "  be/VB\n",
            "  helpful/JJ\n",
            "  for/IN\n",
            "  betterment/NN\n",
            "  of/IN\n",
            "  human/JJ\n",
            "  life.We/NNS\n",
            "  need/VBP\n",
            "  to/TO\n",
            "  make/VB\n",
            "  advantage/NN\n",
            "  of/IN\n",
            "  that./NN)\n",
            "['\"AI', 'is', 'making', 'difference', 'in', 'this', 'world', 'now.']\n",
            "[('\"AI', 'NN'), ('is', 'VBZ'), ('making', 'VBG'), ('difference', 'NN'), ('in', 'IN'), ('this', 'DT'), ('world', 'NN'), ('now.', 'NN')]\n",
            "(S\n",
            "  \"AI/NN\n",
            "  is/VBZ\n",
            "  making/VBG\n",
            "  difference/NN\n",
            "  in/IN\n",
            "  this/DT\n",
            "  world/NN\n",
            "  now./NN)\n",
            "['\"AI', 'is', 'making', 'difference', 'in', 'this', 'world', 'now.']\n",
            "[('\"AI', 'NN'), ('is', 'VBZ'), ('making', 'VBG'), ('difference', 'NN'), ('in', 'IN'), ('this', 'DT'), ('world', 'NN'), ('now.', 'NN')]\n",
            "(S\n",
            "  \"AI/NN\n",
            "  is/VBZ\n",
            "  making/VBG\n",
            "  difference/NN\n",
            "  in/IN\n",
            "  this/DT\n",
            "  world/NN\n",
            "  now./NN)\n"
          ],
          "name": "stdout"
        }
      ]
    },
    {
      "cell_type": "code",
      "metadata": {
        "id": "ECNRW-rDdYoJ"
      },
      "source": [
        "       "
      ],
      "execution_count": null,
      "outputs": []
    }
  ]
}