{
  "nbformat": 4,
  "nbformat_minor": 0,
  "metadata": {
    "colab": {
      "name": "Applied_Statistics(A).ipynb",
      "provenance": [],
      "collapsed_sections": []
    },
    "kernelspec": {
      "name": "python3",
      "display_name": "Python 3"
    },
    "language_info": {
      "name": "python"
    }
  },
  "cells": [
    {
      "cell_type": "code",
      "metadata": {
        "colab": {
          "base_uri": "https://localhost:8080/"
        },
        "id": "Io74EJ79DdZP",
        "outputId": "327a97a7-a9f4-43be-e1e6-0ba0be1be0e0"
      },
      "source": [
        "import pandas as pd\n",
        "df = pd.read_excel(r'/stats.xlsx') \n",
        "\n",
        "# block 1 - simple stats\n",
        "mean1 = df['Salary in Rs.'].mean()\n",
        "sum1 = df['Salary in Rs.'].sum()\n",
        "max1 = df['Salary in Rs.'].max()\n",
        "min1 = df['Salary in Rs.'].min()\n",
        "count1 = df['Salary in Rs.'].count()\n",
        "median1 = df['Salary in Rs.'].median()\n",
        "mode1 =  df['Salary in Rs.'].mode()\n",
        "std1 = df['Salary in Rs.'].std() \n",
        "var1 = df['Salary in Rs.'].var()  \n",
        "\n",
        "print ('Mean salary: ' + str(mean1))\n",
        "print ('Sum of salaries: ' + str(sum1))\n",
        "print ('Max salary: ' + str(max1))\n",
        "print ('Min salary: ' + str(min1))\n",
        "print ('Count of salaries: ' + str(count1))\n",
        "print ('Median salary: ' + str(median1))\n",
        "print ('Mode salary: ' + str(mode1))\n",
        "print ('Std of salaries: ' + str(std1))\n",
        "print ('Var of salaries: ' + str(var1))"
      ],
      "execution_count": null,
      "outputs": [
        {
          "output_type": "stream",
          "text": [
            "Mean salary: 77821.2\n",
            "Sum of salaries: 1945530\n",
            "Max salary: 126015\n",
            "Min salary: 12598\n",
            "Count of salaries: 25\n",
            "Median salary: 87654.0\n",
            "Mode salary: 0    100639\n",
            "dtype: int64\n",
            "Std of salaries: 39847.6152810094\n",
            "Var of salaries: 1587832443.5833337\n"
          ],
          "name": "stdout"
        }
      ]
    }
  ]
}